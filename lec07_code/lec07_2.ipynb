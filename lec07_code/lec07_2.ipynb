{
 "cells": [
  {
   "cell_type": "markdown",
   "metadata": {},
   "source": [
    "# Prostate Cancer Dataset"
   ]
  },
  {
   "cell_type": "code",
   "execution_count": null,
   "metadata": {},
   "outputs": [],
   "source": [
    "# %matplotlib inline\n",
    "# %matplotlib nbagg\n",
    "import numpy as np\n",
    "import numpy.linalg as la\n",
    "import numpy.random as rd\n",
    "from numpy.linalg import svd\n",
    "\n",
    "import matplotlib.pyplot as plt\n",
    "import seaborn as sns\n",
    "\n",
    "import pandas as pd\n",
    "\n",
    "from sklearn import linear_model, preprocessing\n",
    "\n",
    "\n",
    "from sklearn.linear_model import Ridge, RidgeCV, Lasso, LassoCV"
   ]
  },
  {
   "cell_type": "code",
   "execution_count": null,
   "metadata": {
    "scrolled": true
   },
   "outputs": [],
   "source": [
    "#Load prostate cancer dataset\n",
    "df = pd.read_csv('./data/prostate/data.txt', header=0, index_col=0, sep='\\t')\n",
    "\n",
    "# Display the first 6 rows of the DataFrame\n",
    "df.head(6)"
   ]
  },
  {
   "cell_type": "code",
   "execution_count": null,
   "metadata": {},
   "outputs": [],
   "source": [
    "# Training data or test data\n",
    "# id_train = np.array(df.iloc[:,9]=='T')\n",
    "id_train = np.array(df.train=='T')\n",
    "\n",
    "# Extract features and objective variables\n",
    "X_all = np.array(df.iloc[:,:8])\n",
    "X_all = preprocessing.scale(X_all) #standarlization (mean=0, std=1)\n",
    "# y_all = np.array(df.iloc[:,8])\n",
    "y_all = np.array(df.lpsa)\n",
    "y_all = preprocessing.scale(y_all) #standarlization (mean=0, std=1)\n",
    "\n",
    "# Training data\n",
    "X_train = X_all[id_train,:].copy()\n",
    "y_train = y_all[id_train].copy()\n",
    "\n",
    "# Test data\n",
    "X_test = X_all[~id_train,:].copy()\n",
    "y_test = y_all[~id_train].copy()\n",
    "\n",
    "# Feature names\n",
    "fea_names = df.columns[:8]"
   ]
  },
  {
   "cell_type": "code",
   "execution_count": null,
   "metadata": {
    "scrolled": true
   },
   "outputs": [],
   "source": [
    "# Pairs plot to check correlations between variables\n",
    "sns.set(style='whitegrid', context='notebook')\n",
    "cols = df.columns\n",
    "sns.pairplot(df[cols[:9]], size=2)\n",
    "plt.tight_layout()\n",
    "plt.show()"
   ]
  },
  {
   "cell_type": "markdown",
   "metadata": {},
   "source": [
    "# Ridge Regression"
   ]
  },
  {
   "cell_type": "code",
   "execution_count": null,
   "metadata": {},
   "outputs": [],
   "source": [
    "# Define and training\n",
    "model_ridge = Ridge(alpha = 0.001)\n",
    "model_ridge.fit(X_train,y_train)\n",
    "\n",
    "# Display optimized coefficients\n",
    "print( pd.Series(model_ridge.coef_, index=fea_names) )\n",
    "\n",
    "# Prediction for both test data and training data\n",
    "y_test_pred = model_ridge.predict(X_test)\n",
    "y_train_pred = model_ridge.predict(X_train)\n",
    "\n",
    "# Plot result\n",
    "fig = plt.figure(figsize=(5, 5))\n",
    "plt.scatter(y_train, y_train_pred, color='black', s=30, alpha=0.3, label='train')\n",
    "plt.scatter(y_test, y_test_pred, color='red', s=30, alpha=0.8, label='test')\n",
    "min_val = np.min(np.r_[y_train, y_test]) -0.2\n",
    "max_val = np.max(np.r_[y_train, y_test]) + 0.2\n",
    "plt.xlim([min_val, max_val])\n",
    "plt.ylim([min_val, max_val])\n",
    "plt.xlabel('Observed',fontsize=14)\n",
    "plt.ylabel('Predicted',fontsize=14)\n",
    "plt.grid()\n",
    "plt.legend()\n",
    "plt.show()"
   ]
  },
  {
   "cell_type": "markdown",
   "metadata": {},
   "source": [
    "# Regularization path of ridge regression"
   ]
  },
  {
   "cell_type": "code",
   "execution_count": null,
   "metadata": {
    "scrolled": false
   },
   "outputs": [],
   "source": [
    "# Define model\n",
    "model = Ridge()\n",
    "\n",
    "# Points on the path\n",
    "n_alphas = 100\n",
    "alphas = np.logspace(-5, 5, n_alphas)\n",
    "\n",
    "### compute the path\n",
    "coefs = []\n",
    "df = []  # the degree of freedom\n",
    "u, s, v = svd(X_train)\n",
    "for a in alphas:\n",
    "    model.set_params(alpha=a)\n",
    "    model.fit(X_train, y_train)  # training \n",
    "    coefs.append(model.coef_)\n",
    "    df.append( np.sum(s**2/(s**2+a)) )\n",
    "coefs = np.array(coefs)\n",
    "\n",
    "# Cross-Validation to optimize the weight value\n",
    "model_cv = RidgeCV(alphas=alphas, cv=3)\n",
    "model_cv.fit(X_train, y_train)\n",
    "n = np.where(model_cv.alphas == model_cv.alpha_)[0]\n",
    "\n",
    "# Display the regularization path\n",
    "plt.figure(figsize=(5, 5))\n",
    "for i in range(8):\n",
    "    plt.plot(df, coefs[:,i], '.-', label=fea_names[i])\n",
    "plt.axvline(df[n[0]], color='black')\n",
    "plt.xlabel('df(alpha)')\n",
    "plt.ylabel('Coefficient')\n",
    "plt.title('Ridge coefficients as a function of the regularization')\n",
    "plt.axis('tight')\n",
    "plt.grid()\n",
    "plt.legend()\n",
    "plt.show()"
   ]
  },
  {
   "cell_type": "markdown",
   "metadata": {
    "collapsed": true
   },
   "source": [
    "# LASSO"
   ]
  },
  {
   "cell_type": "code",
   "execution_count": null,
   "metadata": {},
   "outputs": [],
   "source": [
    "# Define and training\n",
    "model_lasso = Lasso(alpha = 0.01)\n",
    "\n",
    "# Display optimized coefficients\n",
    "model_lasso.fit(X_train,y_train)\n",
    "print( pd.Series(model_lasso.coef_, index=fea_names) )\n",
    "\n",
    "# Prediction for both test data and training data\n",
    "y_test_pred = model_lasso.predict(X_test)\n",
    "y_train_pred = model_lasso.predict(X_train)\n",
    "\n",
    "# Plot result\n",
    "fig = plt.figure(figsize=(5, 5))\n",
    "plt.scatter(y_train, y_train_pred, color='black', s=30, alpha=0.3, label='train')\n",
    "plt.scatter(y_test, y_test_pred, color='red', s=30, alpha=0.8, label='test')\n",
    "min_val = np.min(np.r_[y_train, y_test]) -0.2\n",
    "max_val = np.max(np.r_[y_train, y_test]) + 0.2\n",
    "plt.xlim([min_val, max_val])\n",
    "plt.ylim([min_val, max_val])\n",
    "plt.xlabel('Observed',fontsize=14)\n",
    "plt.ylabel('Predicted',fontsize=14)\n",
    "plt.grid()\n",
    "plt.legend()\n",
    "plt.show()"
   ]
  },
  {
   "cell_type": "markdown",
   "metadata": {},
   "source": [
    "# Regularization Path by Lasso"
   ]
  },
  {
   "cell_type": "code",
   "execution_count": null,
   "metadata": {},
   "outputs": [],
   "source": [
    "# Define model\n",
    "model = Lasso()\n",
    "\n",
    "# Points on the path\n",
    "n_alphas = 100\n",
    "alphas = np.logspace(-2, 2, n_alphas)\n",
    "\n",
    "### compute the path\n",
    "coefs = []\n",
    "for a in alphas:\n",
    "    model.set_params(alpha=a)\n",
    "    model.fit(X_train, y_train)\n",
    "    coefs.append(model.coef_)\n",
    "coefs = np.array(coefs)\n",
    "\n",
    "# Shrinkage factor\n",
    "xx = np.sum(np.abs(coefs), axis=1)\n",
    "xx /= xx[0]    \n",
    " \n",
    "# Display the result\n",
    "plt.figure(figsize=(5, 5))\n",
    "for i in range(8):\n",
    "    plt.plot(xx, coefs[:,i], '.-', label=fea_names[i])\n",
    "ymin, ymax = plt.ylim()\n",
    "plt.xlabel('Shrinkage Factor s')\n",
    "plt.title('Lasso path')\n",
    "plt.axis('tight')\n",
    "plt.grid()\n",
    "plt.legend()\n",
    "plt.show()"
   ]
  },
  {
   "cell_type": "markdown",
   "metadata": {},
   "source": [
    "# LARS"
   ]
  },
  {
   "cell_type": "code",
   "execution_count": null,
   "metadata": {},
   "outputs": [],
   "source": [
    "# Define and training to compute path\n",
    "alphas, _, coefs = linear_model.lars_path(X_train, y_train, method='lasso')\n",
    "\n",
    "# Cross-Validation to optimize the weight value\n",
    "model_cv = LassoCV(alphas=alphas, cv=3)\n",
    "model_cv.fit(X_train, y_train)\n",
    "n = np.where(model_cv.alphas == model_cv.alpha_)[0]\n",
    "# print(model_cv.alpha_)\n",
    "\n",
    "# Shrinkage factor\n",
    "xx = np.sum(np.abs(coefs.T), axis=1)\n",
    "xx /= xx[-1]\n",
    "\n",
    "# Display results\n",
    "plt.figure(figsize=(5, 5))\n",
    "for i in range(8):\n",
    "    plt.plot(xx, coefs[i,:], '.-', label=fea_names[i])\n",
    "plt.axvline(xx[n], color='black')\n",
    "ymin, ymax = plt.ylim()\n",
    "plt.xlabel('Shrinkage Factor s')\n",
    "plt.ylabel('Coefficients')\n",
    "plt.title('LASSO Path by LARS')\n",
    "plt.axis('tight')\n",
    "plt.grid()\n",
    "plt.legend()\n",
    "plt.show()\n",
    "\n",
    "# Display CV error\n",
    "plt.figure(figsize=(5, 5))\n",
    "plt.plot(xx, model_cv.mse_path_.mean(axis=1), '*-')\n",
    "plt.axvline(xx[n], color='black')\n",
    "plt.xlabel('Shrinkage Factor s')\n",
    "plt.ylabel('Averaged MSE')\n",
    "plt.grid()\n",
    "plt.show()"
   ]
  },
  {
   "cell_type": "code",
   "execution_count": null,
   "metadata": {},
   "outputs": [],
   "source": []
  }
 ],
 "metadata": {
  "kernelspec": {
   "display_name": "Python 3",
   "language": "python",
   "name": "python3"
  },
  "language_info": {
   "codemirror_mode": {
    "name": "ipython",
    "version": 3
   },
   "file_extension": ".py",
   "mimetype": "text/x-python",
   "name": "python",
   "nbconvert_exporter": "python",
   "pygments_lexer": "ipython3",
   "version": "3.7.6"
  }
 },
 "nbformat": 4,
 "nbformat_minor": 1
}
